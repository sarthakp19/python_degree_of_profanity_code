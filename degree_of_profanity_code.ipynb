{
 "cells": [
  {
   "cell_type": "markdown",
   "metadata": {},
   "source": [
    "# Python program to indicate the degree of profanity\n",
    "#### By- Sarthak Parande\n",
    "Email - sarthakparande19@gmail.com"
   ]
  },
  {
   "cell_type": "markdown",
   "metadata": {},
   "source": [
    "# *Step1 \n",
    "### Installing regex library"
   ]
  },
  {
   "cell_type": "code",
   "execution_count": 1,
   "metadata": {
    "scrolled": true
   },
   "outputs": [
    {
     "name": "stdout",
     "output_type": "stream",
     "text": [
      "Requirement already satisfied: regex in d:\\conda\\lib\\site-packages (2022.10.31)\n",
      "Note: you may need to restart the kernel to use updated packages.\n"
     ]
    },
    {
     "name": "stderr",
     "output_type": "stream",
     "text": [
      "WARNING: Ignoring invalid distribution -umpy (d:\\conda\\lib\\site-packages)\n",
      "WARNING: Ignoring invalid distribution -ip (d:\\conda\\lib\\site-packages)\n",
      "WARNING: Ignoring invalid distribution -umpy (d:\\conda\\lib\\site-packages)\n",
      "WARNING: Ignoring invalid distribution -ip (d:\\conda\\lib\\site-packages)\n",
      "WARNING: Ignoring invalid distribution -umpy (d:\\conda\\lib\\site-packages)\n",
      "WARNING: Ignoring invalid distribution -ip (d:\\conda\\lib\\site-packages)\n",
      "WARNING: Ignoring invalid distribution -umpy (d:\\conda\\lib\\site-packages)\n",
      "WARNING: Ignoring invalid distribution -ip (d:\\conda\\lib\\site-packages)\n",
      "WARNING: Ignoring invalid distribution -umpy (d:\\conda\\lib\\site-packages)\n",
      "WARNING: Ignoring invalid distribution -ip (d:\\conda\\lib\\site-packages)\n",
      "WARNING: Ignoring invalid distribution -umpy (d:\\conda\\lib\\site-packages)\n",
      "WARNING: Ignoring invalid distribution -ip (d:\\conda\\lib\\site-packages)\n"
     ]
    }
   ],
   "source": [
    "pip install regex"
   ]
  },
  {
   "cell_type": "markdown",
   "metadata": {},
   "source": [
    "# Step 2 \n",
    "### Importing regex"
   ]
  },
  {
   "cell_type": "code",
   "execution_count": 2,
   "metadata": {
    "slideshow": {
     "slide_type": "slide"
    }
   },
   "outputs": [],
   "source": [
    "import re"
   ]
  },
  {
   "cell_type": "markdown",
   "metadata": {
    "slideshow": {
     "slide_type": "notes"
    }
   },
   "source": [
    "# Step3 \n",
    "Creating a function name degree_of_profanity which returns degree of profanity of tweet.This function take 2 inputs as\n",
    "\n",
    "1) tweet - which take string input on single tweet\n",
    "\n",
    "2) racial_words - list of recial words\n",
    "\n",
    "#### The output of this function is degree of profanity present in perticular input tweet."
   ]
  },
  {
   "cell_type": "code",
   "execution_count": 3,
   "metadata": {},
   "outputs": [],
   "source": [
    "def degree_of_profanity(tweet,profanity_words):\n",
    "    \n",
    "    #creating word_fetch to fetch words from tweet\n",
    "    word_fetch = re.compile(\"\\w+\")\n",
    "    all_words = word_fetch.findall(tweet)\n",
    "    \n",
    "    no_of_profanity_words = 0\n",
    "    # loooping through all the word in words to find number of profanity_words\n",
    "    for word in all_words:\n",
    "        if word.lower() in profanity_words:\n",
    "            no_of_profanity_words +=1\n",
    "    degree_of_profanity = no_of_profanity_words/len(all_words)\n",
    "    \n",
    "    return degree_of_profanity\n",
    "    "
   ]
  },
  {
   "cell_type": "markdown",
   "metadata": {},
   "source": [
    "# Step4\n",
    "\n",
    "Creating a function name evaluate_tweets which read the given tweets_file\n",
    "and give the list containing degree of profanity of each tweet."
   ]
  },
  {
   "cell_type": "code",
   "execution_count": 4,
   "metadata": {},
   "outputs": [],
   "source": [
    "def evaluate_tweets(tweets_file,profanity_words):\n",
    "    # opening the tweets file as read mode \n",
    "    with open(tweets_file,\"r\") as r:\n",
    "        tweets = f.readlines()\n",
    "    scores = [] \n",
    "    # Looping through all the tweets to calculate degree of profanity of each tweet\n",
    "    for tweet in tweets:\n",
    "        scores.append(degree_of_profanity(tweet,profanity_words))\n",
    "    # It returns the list containing degree of profanity of each tweet\n",
    "    return scores\n",
    "    "
   ]
  },
  {
   "cell_type": "markdown",
   "metadata": {},
   "source": [
    "# Step5\n",
    "\n",
    "### Calling the function \n",
    "lets assume we has list of profanity words as\n",
    "\"profanity_words\" and a text file containing tweets as \"tweets.txt\"\n",
    "\n",
    "Now, calling the function:-\n",
    "\n",
    "#### print(evaluate_tweets(\"tweets.txt\",profanity_words)"
   ]
  }
 ],
 "metadata": {
  "kernelspec": {
   "display_name": "Python 3",
   "language": "python",
   "name": "python3"
  },
  "language_info": {
   "codemirror_mode": {
    "name": "ipython",
    "version": 3
   },
   "file_extension": ".py",
   "mimetype": "text/x-python",
   "name": "python",
   "nbconvert_exporter": "python",
   "pygments_lexer": "ipython3",
   "version": "3.7.3"
  }
 },
 "nbformat": 4,
 "nbformat_minor": 2
}
